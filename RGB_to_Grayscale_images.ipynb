{
 "cells": [
  {
   "cell_type": "code",
   "execution_count": null,
   "metadata": {},
   "outputs": [],
   "source": [
    "#conversion of multiple rgb images in a folder to gray scale images saved in another folder created\n",
    "\n",
    "import cv2\n",
    "import os\n",
    "from os import listdir,makedirs\n",
    "from os.path import isfile,join\n",
    "import tensorflow as tf\n",
    "import numpy as np\n",
    "import glob\n",
    "\n",
    "#location of the path folder where the images are\n",
    "\n",
    "path_1 = 'C:/Users/PC/Desktop/car class/prgb'\n",
    "\n",
    "\n",
    "#list the path_name on the path_list\n",
    "\n",
    "paths_list = [path_1]\n",
    "\n",
    "#Destination folder where you want the grayscale images to be saved into\n",
    "\n",
    "dstpath = 'C:/Users/PC/Desktop/car class/p'\n",
    "\n",
    "for path in paths_list:\n",
    "    \n",
    "    files = [f for f in listdir(path) if isfile(join(path,f))]\n",
    "\n",
    "for image in files:\n",
    "    try:\n",
    "        \n",
    "        img = cv2.imread(os.path.join(path, image))\n",
    "        #conversion code from rgb to grayscale\n",
    "        gray_img = cv2.cvtColor(img, cv2.COLOR_BGR2GRAY)\n",
    "        dstPath = join(dstpath, image)\n",
    "        cv2.imwrite(dstPath, gray_img)\n",
    "    except:\n",
    "        print (\"{} is not converted\".format(image))"
   ]
  }
 ],
 "metadata": {
  "kernelspec": {
   "display_name": "Python 3",
   "language": "python",
   "name": "python3"
  },
  "language_info": {
   "codemirror_mode": {
    "name": "ipython",
    "version": 3
   },
   "file_extension": ".py",
   "mimetype": "text/x-python",
   "name": "python",
   "nbconvert_exporter": "python",
   "pygments_lexer": "ipython3",
   "version": "3.7.4"
  }
 },
 "nbformat": 4,
 "nbformat_minor": 4
}
